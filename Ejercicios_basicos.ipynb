{
  "nbformat": 4,
  "nbformat_minor": 0,
  "metadata": {
    "colab": {
      "provenance": [],
      "authorship_tag": "ABX9TyOMbYIUK0tH8QET9WIt9AIB",
      "include_colab_link": true
    },
    "kernelspec": {
      "name": "python3",
      "display_name": "Python 3"
    },
    "language_info": {
      "name": "python"
    }
  },
  "cells": [
    {
      "cell_type": "markdown",
      "metadata": {
        "id": "view-in-github",
        "colab_type": "text"
      },
      "source": [
        "<a href=\"https://colab.research.google.com/github/Willi-blip/numpy1/blob/main/Ejercicios_basicos.ipynb\" target=\"_parent\"><img src=\"https://colab.research.google.com/assets/colab-badge.svg\" alt=\"Open In Colab\"/></a>"
      ]
    },
    {
      "cell_type": "code",
      "execution_count": null,
      "metadata": {
        "id": "l0-KnhzstdC9"
      },
      "outputs": [],
      "source": []
    },
    {
      "cell_type": "markdown",
      "source": [
        "NumPY, Libreria de ciencia de datos"
      ],
      "metadata": {
        "id": "ebHxnWk6uA8c"
      }
    },
    {
      "cell_type": "code",
      "source": [
        "import numpy as np\n",
        "#pip install numpy"
      ],
      "metadata": {
        "id": "Yhvi-MBBujfR"
      },
      "execution_count": 1,
      "outputs": []
    },
    {
      "cell_type": "markdown",
      "source": [
        "ARRAYS DE 1 DIMENSION"
      ],
      "metadata": {
        "id": "2g3OWcp-wrp0"
      }
    },
    {
      "cell_type": "code",
      "source": [
        "array_id=np.array([10,20,30])\n",
        "print(array_id)"
      ],
      "metadata": {
        "colab": {
          "base_uri": "https://localhost:8080/"
        },
        "id": "MWCbAPQhv1XX",
        "outputId": "a194d7bd-bc06-4865-acc8-2ca32aeedc0b"
      },
      "execution_count": 2,
      "outputs": [
        {
          "output_type": "stream",
          "name": "stdout",
          "text": [
            "[10 20 30]\n"
          ]
        }
      ]
    },
    {
      "cell_type": "code",
      "source": [
        "array_id"
      ],
      "metadata": {
        "id": "miVqTD6ownNP",
        "colab": {
          "base_uri": "https://localhost:8080/"
        },
        "outputId": "a5949eec-425e-4c26-ed6b-cc56b54c4739"
      },
      "execution_count": 3,
      "outputs": [
        {
          "output_type": "execute_result",
          "data": {
            "text/plain": [
              "array([10, 20, 30])"
            ]
          },
          "metadata": {},
          "execution_count": 3
        }
      ]
    },
    {
      "cell_type": "markdown",
      "source": [
        "ARRAYS DE 2 DIMENSIONES"
      ],
      "metadata": {
        "id": "cJdVn-cyw_AA"
      }
    },
    {
      "cell_type": "code",
      "source": [
        "array_2d=np.array([(10,20,30),(40,50,50)])\n",
        "array_2d"
      ],
      "metadata": {
        "colab": {
          "base_uri": "https://localhost:8080/"
        },
        "id": "Kae0_N15xChQ",
        "outputId": "a397998a-b5a0-4349-b1dc-b041404f5a2f"
      },
      "execution_count": 4,
      "outputs": [
        {
          "output_type": "execute_result",
          "data": {
            "text/plain": [
              "array([[10, 20, 30],\n",
              "       [40, 50, 50]])"
            ]
          },
          "metadata": {},
          "execution_count": 4
        }
      ]
    },
    {
      "cell_type": "markdown",
      "source": [
        "ARRATS DE 3 DIMENSIONES"
      ],
      "metadata": {
        "id": "iQ-F-NMqx0vk"
      }
    },
    {
      "cell_type": "code",
      "source": [
        "array_3d=np.array([(10,20,30),(40,50,60),(70,80,90)],dtype=float)\n",
        "array_3d"
      ],
      "metadata": {
        "colab": {
          "base_uri": "https://localhost:8080/"
        },
        "id": "ECflqkKYx49b",
        "outputId": "7fbf8841-a59f-4671-fd26-b1790bca2b0a"
      },
      "execution_count": 5,
      "outputs": [
        {
          "output_type": "execute_result",
          "data": {
            "text/plain": [
              "array([[10., 20., 30.],\n",
              "       [40., 50., 60.],\n",
              "       [70., 80., 90.]])"
            ]
          },
          "metadata": {},
          "execution_count": 5
        }
      ]
    },
    {
      "cell_type": "markdown",
      "source": [
        "ARRAY CON 0 DE 3 FILAS 4 CULUMNAS"
      ],
      "metadata": {
        "id": "PxRXgIG94RVX"
      }
    },
    {
      "cell_type": "code",
      "source": [
        "np.zeros((3,4))"
      ],
      "metadata": {
        "colab": {
          "base_uri": "https://localhost:8080/"
        },
        "id": "SAZMHOYE4Zam",
        "outputId": "2315de2d-109b-42e0-b177-cbdfc3117866"
      },
      "execution_count": 6,
      "outputs": [
        {
          "output_type": "execute_result",
          "data": {
            "text/plain": [
              "array([[0., 0., 0., 0.],\n",
              "       [0., 0., 0., 0.],\n",
              "       [0., 0., 0., 0.]])"
            ]
          },
          "metadata": {},
          "execution_count": 6
        }
      ]
    },
    {
      "cell_type": "code",
      "source": [
        "print(np.zeros((3,4)))"
      ],
      "metadata": {
        "colab": {
          "base_uri": "https://localhost:8080/"
        },
        "id": "wFbO0_bo4n2u",
        "outputId": "6182d0ae-94b8-49a6-ed58-954b5a60d084"
      },
      "execution_count": 7,
      "outputs": [
        {
          "output_type": "stream",
          "name": "stdout",
          "text": [
            "[[0. 0. 0. 0.]\n",
            " [0. 0. 0. 0.]\n",
            " [0. 0. 0. 0.]]\n"
          ]
        }
      ]
    },
    {
      "cell_type": "markdown",
      "source": [
        "ARRAY DE UNOS CON2 DIMENSIONES 4 FILAS 5 COLUMNAS"
      ],
      "metadata": {
        "id": "VUajhkNk42S_"
      }
    },
    {
      "cell_type": "markdown",
      "source": [],
      "metadata": {
        "id": "JJd9KptM5WsY"
      }
    },
    {
      "cell_type": "code",
      "source": [
        "np.ones([2,4,5])"
      ],
      "metadata": {
        "colab": {
          "base_uri": "https://localhost:8080/"
        },
        "id": "prBQSFRA4-RQ",
        "outputId": "5705e683-ac72-4a87-bbbb-35485cd2a0a5"
      },
      "execution_count": 8,
      "outputs": [
        {
          "output_type": "execute_result",
          "data": {
            "text/plain": [
              "array([[[1., 1., 1., 1., 1.],\n",
              "        [1., 1., 1., 1., 1.],\n",
              "        [1., 1., 1., 1., 1.],\n",
              "        [1., 1., 1., 1., 1.]],\n",
              "\n",
              "       [[1., 1., 1., 1., 1.],\n",
              "        [1., 1., 1., 1., 1.],\n",
              "        [1., 1., 1., 1., 1.],\n",
              "        [1., 1., 1., 1., 1.]]])"
            ]
          },
          "metadata": {},
          "execution_count": 8
        }
      ]
    },
    {
      "cell_type": "markdown",
      "source": [
        "ARRAYS INTERVALOS Y SALTOS"
      ],
      "metadata": {
        "id": "BXvldQvk5Z7J"
      }
    },
    {
      "cell_type": "code",
      "source": [
        "np.arange(11,30,2)"
      ],
      "metadata": {
        "colab": {
          "base_uri": "https://localhost:8080/"
        },
        "id": "7xeiQJuz5y0S",
        "outputId": "eec0ee2a-82f2-4dec-9799-0a95bad0960f"
      },
      "execution_count": 9,
      "outputs": [
        {
          "output_type": "execute_result",
          "data": {
            "text/plain": [
              "array([11, 13, 15, 17, 19, 21, 23, 25, 27, 29])"
            ]
          },
          "metadata": {},
          "execution_count": 9
        }
      ]
    },
    {
      "cell_type": "markdown",
      "source": [
        "ARRAYS CON INTERVALOS Y DIVISIONES"
      ],
      "metadata": {
        "id": "fnxKHQLV7-r4"
      }
    },
    {
      "cell_type": "code",
      "source": [
        "np.linspace(0,4,7)"
      ],
      "metadata": {
        "colab": {
          "base_uri": "https://localhost:8080/"
        },
        "id": "zmrs4yp-8EdK",
        "outputId": "9c3b7d96-e6ee-48ba-b256-bf411d36ecd1"
      },
      "execution_count": 10,
      "outputs": [
        {
          "output_type": "execute_result",
          "data": {
            "text/plain": [
              "array([0.        , 0.66666667, 1.33333333, 2.        , 2.66666667,\n",
              "       3.33333333, 4.        ])"
            ]
          },
          "metadata": {},
          "execution_count": 10
        }
      ]
    },
    {
      "cell_type": "markdown",
      "source": [
        "ARRAY CON VALORES DADOS"
      ],
      "metadata": {
        "id": "uqQ1s-pH8j2B"
      }
    },
    {
      "cell_type": "code",
      "source": [
        "np.full([3,3],7)"
      ],
      "metadata": {
        "colab": {
          "base_uri": "https://localhost:8080/"
        },
        "id": "et_INOlZ8pki",
        "outputId": "15cc6625-9117-49a1-e060-6a2f43dba04d"
      },
      "execution_count": 11,
      "outputs": [
        {
          "output_type": "execute_result",
          "data": {
            "text/plain": [
              "array([[7, 7, 7],\n",
              "       [7, 7, 7],\n",
              "       [7, 7, 7]])"
            ]
          },
          "metadata": {},
          "execution_count": 11
        }
      ]
    },
    {
      "cell_type": "markdown",
      "source": [
        "ARRAY MATRIZ IDENTIDAD, DIAGONAL, DE UNOS"
      ],
      "metadata": {
        "id": "GKPvKUhv87Tr"
      }
    },
    {
      "cell_type": "code",
      "source": [
        "np.eye(3)"
      ],
      "metadata": {
        "colab": {
          "base_uri": "https://localhost:8080/"
        },
        "id": "zeg07ybf9Tlz",
        "outputId": "8a4c018b-2144-4d34-e2b9-6ee578699c3c"
      },
      "execution_count": 12,
      "outputs": [
        {
          "output_type": "execute_result",
          "data": {
            "text/plain": [
              "array([[1., 0., 0.],\n",
              "       [0., 1., 0.],\n",
              "       [0., 0., 1.]])"
            ]
          },
          "metadata": {},
          "execution_count": 12
        }
      ]
    },
    {
      "cell_type": "markdown",
      "source": [
        "ARRAY VALORES ALEATORIOS"
      ],
      "metadata": {
        "id": "GG6ProXJ-fou"
      }
    },
    {
      "cell_type": "code",
      "source": [
        "np.random.random((4,4))"
      ],
      "metadata": {
        "colab": {
          "base_uri": "https://localhost:8080/"
        },
        "id": "7EZK482H-j9O",
        "outputId": "066fe390-d5f3-4384-8962-210318fcf87e"
      },
      "execution_count": 13,
      "outputs": [
        {
          "output_type": "execute_result",
          "data": {
            "text/plain": [
              "array([[0.18425382, 0.90178719, 0.62392675, 0.14212272],\n",
              "       [0.04655143, 0.94999285, 0.36152897, 0.49987985],\n",
              "       [0.2647084 , 0.19224743, 0.33672178, 0.72952267],\n",
              "       [0.59369492, 0.33665488, 0.8458882 , 0.30919121]])"
            ]
          },
          "metadata": {},
          "execution_count": 13
        }
      ]
    },
    {
      "cell_type": "markdown",
      "source": [
        "ARRAY NUMEROS VACIOS 4*3"
      ],
      "metadata": {
        "id": "genxNk1N_EtH"
      }
    },
    {
      "cell_type": "code",
      "source": [
        "np.empty((4,3))"
      ],
      "metadata": {
        "colab": {
          "base_uri": "https://localhost:8080/"
        },
        "id": "DX_rE4X8_KT3",
        "outputId": "9cf6fe50-a5f9-4941-e4ba-16c1f99744ab"
      },
      "execution_count": 14,
      "outputs": [
        {
          "output_type": "execute_result",
          "data": {
            "text/plain": [
              "array([[0., 0., 0.],\n",
              "       [0., 0., 0.],\n",
              "       [0., 0., 0.],\n",
              "       [0., 0., 0.]])"
            ]
          },
          "metadata": {},
          "execution_count": 14
        }
      ]
    },
    {
      "cell_type": "markdown",
      "source": [
        "GRABAR Y CARGAR"
      ],
      "metadata": {
        "id": "9wX0n9v-BePX"
      }
    },
    {
      "cell_type": "code",
      "source": [
        "#grabar\n",
        "np.save('mi_array_3d',array_3d)"
      ],
      "metadata": {
        "id": "6Q9O5CKxBheE"
      },
      "execution_count": 15,
      "outputs": []
    },
    {
      "cell_type": "code",
      "source": [
        "#cargar\n",
        "mi_array=np.load('mi_array_3d.npy')\n",
        "mi_array"
      ],
      "metadata": {
        "colab": {
          "base_uri": "https://localhost:8080/"
        },
        "id": "dLVFZcU4CtO-",
        "outputId": "8df3af6a-869f-4912-96a4-f707a039cd4b"
      },
      "execution_count": 16,
      "outputs": [
        {
          "output_type": "execute_result",
          "data": {
            "text/plain": [
              "array([[10., 20., 30.],\n",
              "       [40., 50., 60.],\n",
              "       [70., 80., 90.]])"
            ]
          },
          "metadata": {},
          "execution_count": 16
        }
      ]
    },
    {
      "cell_type": "code",
      "source": [
        "np.save('mi_array_2d',array_2d)"
      ],
      "metadata": {
        "id": "ULr874E_EL8p"
      },
      "execution_count": 17,
      "outputs": []
    },
    {
      "cell_type": "code",
      "source": [
        "mi_array=np.load('mi_array_2d.npy')\n",
        "mi_array"
      ],
      "metadata": {
        "colab": {
          "base_uri": "https://localhost:8080/"
        },
        "id": "2p1iG83wEllJ",
        "outputId": "0bbf8c35-de47-408a-8f0f-39882a6434bb"
      },
      "execution_count": 18,
      "outputs": [
        {
          "output_type": "execute_result",
          "data": {
            "text/plain": [
              "array([[10, 20, 30],\n",
              "       [40, 50, 50]])"
            ]
          },
          "metadata": {},
          "execution_count": 18
        }
      ]
    },
    {
      "cell_type": "markdown",
      "source": [
        "GRABAR Y CARGAR FICHEROS DE TEXTOS"
      ],
      "metadata": {
        "id": "pnFRLXIQE4aS"
      }
    },
    {
      "cell_type": "code",
      "source": [
        "#grabar el fichero de texto\n",
        "np.savetxt('mi_array.txt',array_2d,delimiter=' ')"
      ],
      "metadata": {
        "id": "ABidjOwcE-ah"
      },
      "execution_count": 19,
      "outputs": []
    },
    {
      "cell_type": "code",
      "source": [
        "#cargar el fichero de texto\n",
        "np.loadtxt('mi_array.txt')"
      ],
      "metadata": {
        "colab": {
          "base_uri": "https://localhost:8080/"
        },
        "id": "zcGYdo-zGJ6q",
        "outputId": "4081e23a-b6bd-4f3a-d60e-250680dc032b"
      },
      "execution_count": 20,
      "outputs": [
        {
          "output_type": "execute_result",
          "data": {
            "text/plain": [
              "array([[10., 20., 30.],\n",
              "       [40., 50., 50.]])"
            ]
          },
          "metadata": {},
          "execution_count": 20
        }
      ]
    },
    {
      "cell_type": "markdown",
      "source": [
        "EJECICIOS PROPUESTO"
      ],
      "metadata": {
        "id": "_GAet8vORmL-"
      }
    },
    {
      "cell_type": "code",
      "source": [
        "asignaturas = [\"Matemáticas\", \"Física\", \"Química\", \"Historia\", \"Lengua\"]\n",
        "asignaturas"
      ],
      "metadata": {
        "colab": {
          "base_uri": "https://localhost:8080/"
        },
        "id": "GsUsVtkeRpuG",
        "outputId": "b4e79daa-042c-4e1a-c7bc-fcc9fa44ffcd"
      },
      "execution_count": 21,
      "outputs": [
        {
          "output_type": "execute_result",
          "data": {
            "text/plain": [
              "['Matemáticas', 'Física', 'Química', 'Historia', 'Lengua']"
            ]
          },
          "metadata": {},
          "execution_count": 21
        }
      ]
    },
    {
      "cell_type": "code",
      "source": [
        "for asignatura in asignaturas:\n",
        "    print(\"Yo estudio \" + asignatura)"
      ],
      "metadata": {
        "colab": {
          "base_uri": "https://localhost:8080/"
        },
        "id": "DqpeGMj-SXEO",
        "outputId": "e649c19e-6764-417b-802f-7114a1edb09b"
      },
      "execution_count": 22,
      "outputs": [
        {
          "output_type": "stream",
          "name": "stdout",
          "text": [
            "Yo estudio Matemáticas\n",
            "Yo estudio Física\n",
            "Yo estudio Química\n",
            "Yo estudio Historia\n",
            "Yo estudio Lengua\n"
          ]
        }
      ]
    },
    {
      "cell_type": "code",
      "source": [
        "notas = []\n",
        "for asignatura in asignaturas:\n",
        "  nota = input(\"¿Qué nota has sacado en {}? \".format(asignatura))\n",
        "  notas.append(nota)\n",
        "\n",
        "for i in range(len(asignaturas)):\n",
        "  print(\"En {} has sacado: {}\".format(asignaturas[i], notas[i]))"
      ],
      "metadata": {
        "colab": {
          "base_uri": "https://localhost:8080/"
        },
        "id": "hiqm_BWrSywn",
        "outputId": "3d32b1c9-a1b3-4deb-f95a-ff67283d4f88"
      },
      "execution_count": 23,
      "outputs": [
        {
          "output_type": "stream",
          "name": "stdout",
          "text": [
            "¿Qué nota has sacado en Matemáticas? 15\n",
            "¿Qué nota has sacado en Física? 15\n",
            "¿Qué nota has sacado en Química? 15\n",
            "¿Qué nota has sacado en Historia? 15\n",
            "¿Qué nota has sacado en Lengua? 15\n",
            "En Matemáticas has sacado: 15\n",
            "En Física has sacado: 15\n",
            "En Química has sacado: 15\n",
            "En Historia has sacado: 15\n",
            "En Lengua has sacado: 15\n"
          ]
        }
      ]
    },
    {
      "cell_type": "code",
      "source": [
        "numeros_ganadores = []\n",
        "while len(numeros_ganadores) < 6:\n",
        "  try:\n",
        "    numero = int(input(f\"Introduce el número {len(numeros_ganadores) + 1} de la lotería: \"))\n",
        "    if 1 <= numero <= 50 and numero not in numeros_ganadores:\n",
        "      numeros_ganadores.append(numero)\n",
        "    elif numero in numeros_ganadores:\n",
        "      print(\"Ese número ya ha sido introducido. Introduce uno diferente.\")\n",
        "    else:\n",
        "      print(\"El número debe estar entre 1 y 50.\")\n",
        "  except ValueError:\n",
        "    print(\"Entrada no válida. Por favor, introduce un número entero.\")\n",
        "\n",
        "numeros_ganadores.sort()\n",
        "print(\"Los números ganadores de la lotería primitiva son:\")\n",
        "numeros_ganadores\n"
      ],
      "metadata": {
        "colab": {
          "base_uri": "https://localhost:8080/"
        },
        "id": "NetpwkZHUP1I",
        "outputId": "22c56e54-60a8-4a64-ebba-dd7f7210d6bd"
      },
      "execution_count": 24,
      "outputs": [
        {
          "output_type": "stream",
          "name": "stdout",
          "text": [
            "Introduce el número 1 de la lotería: 5\n",
            "Introduce el número 2 de la lotería: 4\n",
            "Introduce el número 3 de la lotería: 6\n",
            "Introduce el número 4 de la lotería: 8\n",
            "Introduce el número 5 de la lotería: 9\n",
            "Introduce el número 6 de la lotería: 7\n",
            "Los números ganadores de la lotería primitiva son:\n"
          ]
        },
        {
          "output_type": "execute_result",
          "data": {
            "text/plain": [
              "[4, 5, 6, 7, 8, 9]"
            ]
          },
          "metadata": {},
          "execution_count": 24
        }
      ]
    },
    {
      "cell_type": "code",
      "source": [
        "numeros = list(range(1, 11))\n",
        "numeros.reverse()\n",
        "print(\",\".join(map(str, numeros)))"
      ],
      "metadata": {
        "colab": {
          "base_uri": "https://localhost:8080/"
        },
        "id": "8aPUfSglV7KZ",
        "outputId": "8c6bbe44-e8bb-44f2-c81a-9f14317066ad"
      },
      "execution_count": 25,
      "outputs": [
        {
          "output_type": "stream",
          "name": "stdout",
          "text": [
            "10,9,8,7,6,5,4,3,2,1\n"
          ]
        }
      ]
    },
    {
      "cell_type": "code",
      "source": [
        "asignaturas = [\"Matemáticas\", \"Física\", \"Química\", \"Historia\", \"Lengua\"]\n",
        "notas = []\n",
        "for asignatura in asignaturas:\n",
        "    while True:\n",
        "        try:\n",
        "            nota = float(input(f\"¿Qué nota has sacado en {asignatura}? \"))\n",
        "            if 0 <= nota <= 20:\n",
        "                notas.append(nota)\n",
        "                break\n",
        "            else:\n",
        "                print(\"Por favor, introduce una nota entre 0 y 10.\")\n",
        "        except ValueError:\n",
        "            print(\"Entrada no válida. Por favor, introduce un número para la nota.\")\n",
        "\n",
        "asignaturas_a_repetir = []\n",
        "for i in range(len(asignaturas)):\n",
        "    if notas[i] < 10:\n",
        "        asignaturas_a_repetir.append(asignaturas[i])\n",
        "\n",
        "if asignaturas_a_repetir:\n",
        "    print(\"\\nAsignaturas que tienes que repetir:\")\n",
        "    for asignatura in asignaturas_a_repetir:\n",
        "        print(asignatura)\n",
        "else:\n",
        "    print(\"\\n¡Enhorabuena! Has aprobado todas las asignaturas.\")"
      ],
      "metadata": {
        "colab": {
          "base_uri": "https://localhost:8080/"
        },
        "id": "u8I_jmYmXV8K",
        "outputId": "e43415d1-2cf1-4735-d8bc-beedf651654e"
      },
      "execution_count": 26,
      "outputs": [
        {
          "output_type": "stream",
          "name": "stdout",
          "text": [
            "¿Qué nota has sacado en Matemáticas? 15\n",
            "¿Qué nota has sacado en Física? 15\n",
            "¿Qué nota has sacado en Química? 15\n",
            "¿Qué nota has sacado en Historia? 15\n",
            "¿Qué nota has sacado en Lengua? 15\n",
            "\n",
            "¡Enhorabuena! Has aprobado todas las asignaturas.\n"
          ]
        }
      ]
    },
    {
      "cell_type": "code",
      "source": [
        "alfabeto = list('abcdefghijklmnopqrstuvwxyz')\n",
        "alfabeto_filtrado = [letra for indice, letra in enumerate(alfabeto) if (indice + 1) % 3 != 0]\n",
        "alfabeto_filtrado"
      ],
      "metadata": {
        "colab": {
          "base_uri": "https://localhost:8080/"
        },
        "id": "_uRp3-WpZWKk",
        "outputId": "cd00d4b7-412c-42e8-85af-bc94acfe0ccb"
      },
      "execution_count": 27,
      "outputs": [
        {
          "output_type": "execute_result",
          "data": {
            "text/plain": [
              "['a',\n",
              " 'b',\n",
              " 'd',\n",
              " 'e',\n",
              " 'g',\n",
              " 'h',\n",
              " 'j',\n",
              " 'k',\n",
              " 'm',\n",
              " 'n',\n",
              " 'p',\n",
              " 'q',\n",
              " 's',\n",
              " 't',\n",
              " 'v',\n",
              " 'w',\n",
              " 'y',\n",
              " 'z']"
            ]
          },
          "metadata": {},
          "execution_count": 27
        }
      ]
    },
    {
      "cell_type": "code",
      "source": [
        "palabra = input(\"Introduce una palabra: \")\n",
        "palabra = palabra.lower().replace(\" \", \"\")\n",
        "if palabra == palabra[::-1]:\n",
        "  print(\"Es un palíndromo.\")\n",
        "else:\n",
        "  print(\"No es un palíndromo.\")"
      ],
      "metadata": {
        "colab": {
          "base_uri": "https://localhost:8080/"
        },
        "id": "OEQnXbjyaWTs",
        "outputId": "5e46df44-9f85-4821-b05f-6ee7ebd70099"
      },
      "execution_count": 28,
      "outputs": [
        {
          "output_type": "stream",
          "name": "stdout",
          "text": [
            "Introduce una palabra: 15\n",
            "No es un palíndromo.\n"
          ]
        }
      ]
    },
    {
      "cell_type": "code",
      "source": [
        "palabra = input(\"Introduce una palabra: \").lower()\n",
        "vocales = {'a': 0, 'e': 0, 'i': 0, 'o': 0, 'u': 0}\n",
        "for letra in palabra:\n",
        "  if letra in vocales:\n",
        "    vocales[letra] += 1\n",
        "for vocal, count in vocales.items():\n",
        "  print(f\"La vocal '{vocal}' aparece {count} veces.\")"
      ],
      "metadata": {
        "colab": {
          "base_uri": "https://localhost:8080/"
        },
        "id": "TrMZduMzbQPU",
        "outputId": "39fea203-cb6c-48ac-ba4a-a27696e1ecfa"
      },
      "execution_count": 29,
      "outputs": [
        {
          "output_type": "stream",
          "name": "stdout",
          "text": [
            "Introduce una palabra: 15\n",
            "La vocal 'a' aparece 0 veces.\n",
            "La vocal 'e' aparece 0 veces.\n",
            "La vocal 'i' aparece 0 veces.\n",
            "La vocal 'o' aparece 0 veces.\n",
            "La vocal 'u' aparece 0 veces.\n"
          ]
        }
      ]
    },
    {
      "cell_type": "code",
      "source": [
        "precios = [50, 75, 46, 22, 80, 65, 8]\n",
        "print(\"El precio menor es:\", min(precios))\n",
        "print(\"El precio mayor es:\", max(precios))"
      ],
      "metadata": {
        "colab": {
          "base_uri": "https://localhost:8080/"
        },
        "id": "F2kwRversPnP",
        "outputId": "bb1d6b3b-370b-417f-f683-1b7da1729abb"
      },
      "execution_count": 30,
      "outputs": [
        {
          "output_type": "stream",
          "name": "stdout",
          "text": [
            "El precio menor es: 8\n",
            "El precio mayor es: 80\n"
          ]
        }
      ]
    },
    {
      "cell_type": "code",
      "source": [
        "# Vectores en listas\n",
        "vector1 = [1, 2, 3]\n",
        "vector2 = [-1, 0, 2]\n",
        "\n",
        "# Calcular el producto escalar\n",
        "producto_escalar = sum(x * y for x, y in zip(vector1, vector2))\n",
        "\n",
        "# Mostrar el resultado\n",
        "print(f\"El producto escalar de {vector1} y {vector2} es: {producto_escalar}\")"
      ],
      "metadata": {
        "colab": {
          "base_uri": "https://localhost:8080/"
        },
        "id": "uzG7iEqktJzS",
        "outputId": "2216379e-6cef-44a9-d75f-72db81c30cf0"
      },
      "execution_count": 31,
      "outputs": [
        {
          "output_type": "stream",
          "name": "stdout",
          "text": [
            "El producto escalar de [1, 2, 3] y [-1, 0, 2] es: 5\n"
          ]
        }
      ]
    },
    {
      "cell_type": "code",
      "source": [
        "# Definir las matrices como listas anidadas\n",
        "matriz1 = [[1, 2],\n",
        "           [3, 4]]\n",
        "\n",
        "matriz2 = [[5, 6],\n",
        "           [7, 8]]\n",
        "\n",
        "# Almacenar las matrices en una lista\n",
        "matrices = [matriz1, matriz2]\n",
        "\n",
        "# Función para multiplicar dos matrices\n",
        "def multiplicar_matrices(matriz_a, matriz_b):\n",
        "    # Verificar si la multiplicación es posible\n",
        "    if len(matriz_a[0]) != len(matriz_b):\n",
        "        return \"No se pueden multiplicar las matrices.\"\n",
        "\n",
        "    # Inicializar la matriz resultado con ceros\n",
        "    filas_a = len(matriz_a)\n",
        "    columnas_a = len(matriz_a[0])\n",
        "    filas_b = len(matriz_b)\n",
        "    columnas_b = len(matriz_b[0])\n",
        "    matriz_resultado = [[0 for _ in range(columnas_b)] for _ in range(filas_a)]\n",
        "\n",
        "    # Realizar la multiplicación\n",
        "    for i in range(filas_a):\n",
        "        for j in range(columnas_b):\n",
        "            for k in range(columnas_a):\n",
        "                matriz_resultado[i][j] += matriz_a[i][k] * matriz_b[k][j]\n",
        "\n",
        "    return matriz_resultado\n",
        "\n",
        "# Calcular el producto de las matrices en la lista\n",
        "if len(matrices) >= 2:\n",
        "    producto = matrices[0]\n",
        "    for i in range(1, len(matrices)):\n",
        "        producto = multiplicar_matrices(producto, matrices[i])\n",
        "        if isinstance(producto, str): # Verificar si hubo error en la multiplicación\n",
        "            print(producto)\n",
        "            break\n",
        "    else:\n",
        "        print(\"El producto de las matrices es:\")\n",
        "        for fila in producto:\n",
        "            print(fila)\n",
        "elif len(matrices) == 1:\n",
        "    print(\"Solo hay una matriz en la lista:\")\n",
        "    for fila in matrices[0]:\n",
        "        print(fila)\n",
        "else:\n",
        "    print(\"La lista de matrices está vacía.\")"
      ],
      "metadata": {
        "colab": {
          "base_uri": "https://localhost:8080/"
        },
        "id": "FHqa_awFtexu",
        "outputId": "5734acf1-4c04-4fb6-fd0c-607dd1846f79"
      },
      "execution_count": 32,
      "outputs": [
        {
          "output_type": "stream",
          "name": "stdout",
          "text": [
            "El producto de las matrices es:\n",
            "[19, 22]\n",
            "[43, 50]\n"
          ]
        }
      ]
    },
    {
      "cell_type": "code",
      "source": [
        "import numpy as np\n",
        "\n",
        "entrada = input(\"Introduce una muestra de números separados por comas: \")\n",
        "numeros_str = entrada.split(',')\n",
        "numeros = []\n",
        "for num_str in numeros_str:\n",
        "  try:\n",
        "    numeros.append(float(num_str.strip()))\n",
        "  except ValueError:\n",
        "    print(f\"Advertencia: '{num_str.strip()}' no es un número válido y será ignorado.\")\n",
        "\n",
        "if numeros:\n",
        "  muestra = np.array(numeros)\n",
        "  media = np.mean(muestra)\n",
        "  desviacion_tipica = np.std(muestra)\n",
        "\n",
        "  print(f\"La muestra es: {numeros}\")\n",
        "  print(f\"La media es: {media}\")\n",
        "  print(f\"La desviación típica es: {desviacion_tipica}\")\n",
        "else:\n",
        "  print(\"No se introdujeron números válidos.\")\n"
      ],
      "metadata": {
        "colab": {
          "base_uri": "https://localhost:8080/"
        },
        "id": "dDz_doLst8TL",
        "outputId": "1c209d90-80dd-4f8f-cf27-d530bb8058a8"
      },
      "execution_count": 33,
      "outputs": [
        {
          "output_type": "stream",
          "name": "stdout",
          "text": [
            "Introduce una muestra de números separados por comas: 15\n",
            "La muestra es: [15.0]\n",
            "La media es: 15.0\n",
            "La desviación típica es: 0.0\n"
          ]
        }
      ]
    },
    {
      "cell_type": "markdown",
      "source": [
        "TIPOS DE DATOS"
      ],
      "metadata": {
        "id": "-RZ1buAThmri"
      }
    },
    {
      "cell_type": "code",
      "source": [
        "#decimal\n",
        "np.int64"
      ],
      "metadata": {
        "colab": {
          "base_uri": "https://localhost:8080/"
        },
        "id": "ah-AxTqVhpL6",
        "outputId": "0716f841-01de-4380-c43b-b2b6b7c5e131"
      },
      "execution_count": 34,
      "outputs": [
        {
          "output_type": "execute_result",
          "data": {
            "text/plain": [
              "numpy.int64"
            ]
          },
          "metadata": {},
          "execution_count": 34
        }
      ]
    },
    {
      "cell_type": "code",
      "source": [
        "#decimal, flotante\n",
        "np.float64"
      ],
      "metadata": {
        "colab": {
          "base_uri": "https://localhost:8080/"
        },
        "id": "tUYdUnU3hyHo",
        "outputId": "d2bdc52e-8f87-49ec-a207-1c153e3d871a"
      },
      "execution_count": 35,
      "outputs": [
        {
          "output_type": "execute_result",
          "data": {
            "text/plain": [
              "numpy.float64"
            ]
          },
          "metadata": {},
          "execution_count": 35
        }
      ]
    },
    {
      "cell_type": "code",
      "source": [
        "#conplejos\n",
        "np.complex64"
      ],
      "metadata": {
        "colab": {
          "base_uri": "https://localhost:8080/"
        },
        "id": "-Y-g_sBVh8fw",
        "outputId": "c29f5437-287d-450f-a0ea-976cb48b0bc3"
      },
      "execution_count": 36,
      "outputs": [
        {
          "output_type": "execute_result",
          "data": {
            "text/plain": [
              "numpy.complex64"
            ]
          },
          "metadata": {},
          "execution_count": 36
        }
      ]
    },
    {
      "cell_type": "code",
      "source": [
        "#foleano\n",
        "np.bool_"
      ],
      "metadata": {
        "colab": {
          "base_uri": "https://localhost:8080/"
        },
        "id": "agsDO3TujLZQ",
        "outputId": "b2fef191-3c70-4b68-b2f4-bca9b699dc9c"
      },
      "execution_count": 37,
      "outputs": [
        {
          "output_type": "execute_result",
          "data": {
            "text/plain": [
              "numpy.bool"
            ]
          },
          "metadata": {},
          "execution_count": 37
        }
      ]
    },
    {
      "cell_type": "code",
      "source": [
        "#objectos\n",
        "np.object_"
      ],
      "metadata": {
        "colab": {
          "base_uri": "https://localhost:8080/"
        },
        "id": "rZ2yio3clcv3",
        "outputId": "7fd044f3-e728-4c45-dea5-ff28792dc0af"
      },
      "execution_count": 38,
      "outputs": [
        {
          "output_type": "execute_result",
          "data": {
            "text/plain": [
              "numpy.object_"
            ]
          },
          "metadata": {},
          "execution_count": 38
        }
      ]
    },
    {
      "cell_type": "code",
      "source": [
        "#cadena de datos\n",
        "np.strings"
      ],
      "metadata": {
        "colab": {
          "base_uri": "https://localhost:8080/"
        },
        "id": "6zhMDqRxll8o",
        "outputId": "19a428bc-c1a3-49a4-c4cc-aff53489082f"
      },
      "execution_count": 39,
      "outputs": [
        {
          "output_type": "execute_result",
          "data": {
            "text/plain": [
              "<module 'numpy.strings' from '/usr/local/lib/python3.11/dist-packages/numpy/strings/__init__.py'>"
            ]
          },
          "metadata": {},
          "execution_count": 39
        }
      ]
    },
    {
      "cell_type": "code",
      "source": [
        "np.bytes_"
      ],
      "metadata": {
        "colab": {
          "base_uri": "https://localhost:8080/"
        },
        "id": "nkqt8B7NmGLX",
        "outputId": "b3ff3e95-4b6e-4941-f5e8-33859b03b4e2"
      },
      "execution_count": 40,
      "outputs": [
        {
          "output_type": "execute_result",
          "data": {
            "text/plain": [
              "numpy.bytes_"
            ]
          },
          "metadata": {},
          "execution_count": 40
        }
      ]
    },
    {
      "cell_type": "markdown",
      "source": [
        "PROPIEDADES Y CARACTERISTICAS DE ENTORNOS"
      ],
      "metadata": {
        "id": "tkbMyHl3mtwG"
      }
    },
    {
      "cell_type": "code",
      "source": [
        "array_3d"
      ],
      "metadata": {
        "colab": {
          "base_uri": "https://localhost:8080/"
        },
        "id": "SrRc6f4vm4DP",
        "outputId": "1ee5b44a-eb33-4b7e-ef06-4837c53732e0"
      },
      "execution_count": 41,
      "outputs": [
        {
          "output_type": "execute_result",
          "data": {
            "text/plain": [
              "array([[10., 20., 30.],\n",
              "       [40., 50., 60.],\n",
              "       [70., 80., 90.]])"
            ]
          },
          "metadata": {},
          "execution_count": 41
        }
      ]
    },
    {
      "cell_type": "code",
      "source": [
        "array_3d.strides"
      ],
      "metadata": {
        "colab": {
          "base_uri": "https://localhost:8080/"
        },
        "id": "qlN3twuTnVhW",
        "outputId": "5ac0b879-c118-4e57-c9f5-509b5f938c28"
      },
      "execution_count": 49,
      "outputs": [
        {
          "output_type": "execute_result",
          "data": {
            "text/plain": [
              "(24, 8)"
            ]
          },
          "metadata": {},
          "execution_count": 49
        }
      ]
    },
    {
      "cell_type": "code",
      "source": [
        "#altitud\n",
        "len(array_3d)"
      ],
      "metadata": {
        "colab": {
          "base_uri": "https://localhost:8080/"
        },
        "id": "OKyMJxjYnnZH",
        "outputId": "36f127a4-f52a-48fb-f965-156a7ae01642"
      },
      "execution_count": 43,
      "outputs": [
        {
          "output_type": "execute_result",
          "data": {
            "text/plain": [
              "3"
            ]
          },
          "metadata": {},
          "execution_count": 43
        }
      ]
    },
    {
      "cell_type": "code",
      "source": [
        "#numero de dimensiones\n",
        "array_3d.ndim"
      ],
      "metadata": {
        "colab": {
          "base_uri": "https://localhost:8080/"
        },
        "id": "tZ85Ps55oFtd",
        "outputId": "0ab8c2ae-6a97-4b1c-9c85-4f5e3db06d15"
      },
      "execution_count": 52,
      "outputs": [
        {
          "output_type": "execute_result",
          "data": {
            "text/plain": [
              "2"
            ]
          },
          "metadata": {},
          "execution_count": 52
        }
      ]
    },
    {
      "cell_type": "code",
      "source": [
        "array_5d=np.array(((5,2,1,5,6),(8,4,6,5,5),(2,5,7,4,4),(79,4,5,45,4),(3,7,56,4,5)),dtype=float)\n",
        "array_5d"
      ],
      "metadata": {
        "colab": {
          "base_uri": "https://localhost:8080/"
        },
        "id": "WtNzEAyvpAtm",
        "outputId": "9b796f7f-fa10-469e-f1cb-0e3b27da17ec"
      },
      "execution_count": 67,
      "outputs": [
        {
          "output_type": "execute_result",
          "data": {
            "text/plain": [
              "array([[ 5.,  2.,  1.,  5.,  6.],\n",
              "       [ 8.,  4.,  6.,  5.,  5.],\n",
              "       [ 2.,  5.,  7.,  4.,  4.],\n",
              "       [79.,  4.,  5., 45.,  4.],\n",
              "       [ 3.,  7., 56.,  4.,  5.]])"
            ]
          },
          "metadata": {},
          "execution_count": 67
        }
      ]
    },
    {
      "cell_type": "code",
      "source": [
        "array_5d.ndim"
      ],
      "metadata": {
        "colab": {
          "base_uri": "https://localhost:8080/"
        },
        "id": "uqTKsiJVqJeE",
        "outputId": "c6b7d65e-2f08-4a0a-8964-f9bb7a2e1c8e"
      },
      "execution_count": 68,
      "outputs": [
        {
          "output_type": "execute_result",
          "data": {
            "text/plain": [
              "2"
            ]
          },
          "metadata": {},
          "execution_count": 68
        }
      ]
    },
    {
      "cell_type": "code",
      "source": [
        "#tipos de datos\n",
        "array_3d.dtype"
      ],
      "metadata": {
        "colab": {
          "base_uri": "https://localhost:8080/"
        },
        "id": "qBdnfseLsWrE",
        "outputId": "f2530979-41b2-4643-a135-8c927bf68a1d"
      },
      "execution_count": 69,
      "outputs": [
        {
          "output_type": "execute_result",
          "data": {
            "text/plain": [
              "dtype('float64')"
            ]
          },
          "metadata": {},
          "execution_count": 69
        }
      ]
    },
    {
      "cell_type": "code",
      "source": [
        "array_3d.dtype.name"
      ],
      "metadata": {
        "colab": {
          "base_uri": "https://localhost:8080/",
          "height": 35
        },
        "id": "EFgZh_7vsvek",
        "outputId": "f77f7469-a751-4751-9ba0-6931079b252a"
      },
      "execution_count": 70,
      "outputs": [
        {
          "output_type": "execute_result",
          "data": {
            "text/plain": [
              "'float64'"
            ],
            "application/vnd.google.colaboratory.intrinsic+json": {
              "type": "string"
            }
          },
          "metadata": {},
          "execution_count": 70
        }
      ]
    },
    {
      "cell_type": "code",
      "source": [
        "#combertir de un tipo a otro tipo de dato\n",
        "array_3d.astype(int)"
      ],
      "metadata": {
        "colab": {
          "base_uri": "https://localhost:8080/"
        },
        "id": "6iUqKqpIs7Ik",
        "outputId": "e248cfcb-fa47-4484-c42f-b88a9df34a6d"
      },
      "execution_count": 73,
      "outputs": [
        {
          "output_type": "execute_result",
          "data": {
            "text/plain": [
              "array([[ 5,  2,  1],\n",
              "       [ 8,  4,  6],\n",
              "       [ 2,  5,  7],\n",
              "       [79,  4,  5],\n",
              "       [ 3,  7, 56]])"
            ]
          },
          "metadata": {},
          "execution_count": 73
        }
      ]
    },
    {
      "cell_type": "markdown",
      "source": [
        "OPERADORES MATEMATICOS"
      ],
      "metadata": {
        "id": "cQ_n0rnlt607"
      }
    },
    {
      "cell_type": "code",
      "source": [
        "array_id"
      ],
      "metadata": {
        "colab": {
          "base_uri": "https://localhost:8080/"
        },
        "id": "ThOZojdyt93b",
        "outputId": "9ab35620-05df-48a2-804a-5fbf99b85be7"
      },
      "execution_count": 76,
      "outputs": [
        {
          "output_type": "execute_result",
          "data": {
            "text/plain": [
              "array([10, 20, 30])"
            ]
          },
          "metadata": {},
          "execution_count": 76
        }
      ]
    },
    {
      "cell_type": "code",
      "source": [
        "#array de ejemplos\n",
        "array1=np.random.random([4,4])\n",
        "array1"
      ],
      "metadata": {
        "colab": {
          "base_uri": "https://localhost:8080/"
        },
        "id": "Y7lSRuHeuNiz",
        "outputId": "70f32c66-6cd4-408f-cb10-795e80d60325"
      },
      "execution_count": 81,
      "outputs": [
        {
          "output_type": "execute_result",
          "data": {
            "text/plain": [
              "array([[0.73922428, 0.52669855, 0.45386683, 0.39330891],\n",
              "       [0.74878066, 0.75744715, 0.13740936, 0.15349179],\n",
              "       [0.33093214, 0.16822378, 0.37990037, 0.50602974],\n",
              "       [0.15646627, 0.95772189, 0.34434353, 0.44163123]])"
            ]
          },
          "metadata": {},
          "execution_count": 81
        }
      ]
    },
    {
      "cell_type": "code",
      "source": [
        "array2=np.random.random([4,4])\n",
        "array2"
      ],
      "metadata": {
        "colab": {
          "base_uri": "https://localhost:8080/"
        },
        "id": "hdirxTk-ujv8",
        "outputId": "8ad1ba6c-1136-4182-999a-6eb8b9eaa9c7"
      },
      "execution_count": 78,
      "outputs": [
        {
          "output_type": "execute_result",
          "data": {
            "text/plain": [
              "array([[0.1004542 , 0.76957291, 0.18994306, 0.01076079],\n",
              "       [0.04384188, 0.07164585, 0.97746794, 0.67696134],\n",
              "       [0.68682925, 0.73681785, 0.74308311, 0.29116623],\n",
              "       [0.38721042, 0.8896066 , 0.52090105, 0.51000763]])"
            ]
          },
          "metadata": {},
          "execution_count": 78
        }
      ]
    },
    {
      "cell_type": "code",
      "source": [
        "array3=np.random.random([4,4])\n",
        "array3"
      ],
      "metadata": {
        "colab": {
          "base_uri": "https://localhost:8080/"
        },
        "id": "EI9ixMnGuyUy",
        "outputId": "8d3189ed-d184-4024-bc6f-c93fc7fbc2a1"
      },
      "execution_count": 79,
      "outputs": [
        {
          "output_type": "execute_result",
          "data": {
            "text/plain": [
              "array([[0.6294199 , 0.98655637, 0.18992463, 0.42608031],\n",
              "       [0.32388282, 0.07185542, 0.63145051, 0.02899946],\n",
              "       [0.51874884, 0.15427428, 0.04257366, 0.01861475],\n",
              "       [0.33528741, 0.08185574, 0.52676599, 0.7724645 ]])"
            ]
          },
          "metadata": {},
          "execution_count": 79
        }
      ]
    },
    {
      "cell_type": "code",
      "source": [
        "#suma\n",
        "array4=(array1+array2)\n",
        "array4"
      ],
      "metadata": {
        "colab": {
          "base_uri": "https://localhost:8080/"
        },
        "id": "suPbaxZJvAeS",
        "outputId": "e5f16364-ae07-4bd9-fc29-7e4e36e14dd0"
      },
      "execution_count": 82,
      "outputs": [
        {
          "output_type": "execute_result",
          "data": {
            "text/plain": [
              "array([[0.83967848, 1.29627146, 0.64380989, 0.4040697 ],\n",
              "       [0.79262254, 0.829093  , 1.11487731, 0.83045313],\n",
              "       [1.01776139, 0.90504162, 1.12298348, 0.79719597],\n",
              "       [0.54367669, 1.84732849, 0.86524458, 0.95163886]])"
            ]
          },
          "metadata": {},
          "execution_count": 82
        }
      ]
    },
    {
      "cell_type": "code",
      "source": [
        "#resta\n",
        "array4=(array1-array2)\n",
        "array4"
      ],
      "metadata": {
        "colab": {
          "base_uri": "https://localhost:8080/"
        },
        "id": "u_PX7i4Svv-q",
        "outputId": "2e767ce0-19df-4a5f-a33c-d113bbc301e1"
      },
      "execution_count": 84,
      "outputs": [
        {
          "output_type": "execute_result",
          "data": {
            "text/plain": [
              "array([[ 0.63877007, -0.24287437,  0.26392377,  0.38254811],\n",
              "       [ 0.70493877,  0.6858013 , -0.84005858, -0.52346955],\n",
              "       [-0.3558971 , -0.56859407, -0.36318275,  0.21486351],\n",
              "       [-0.23074415,  0.06811529, -0.17655752, -0.0683764 ]])"
            ]
          },
          "metadata": {},
          "execution_count": 84
        }
      ]
    },
    {
      "cell_type": "code",
      "source": [
        "#multiplicar\n",
        "array4=np.multiply(array1,array2,array3)\n",
        "array4"
      ],
      "metadata": {
        "colab": {
          "base_uri": "https://localhost:8080/"
        },
        "id": "A8kt6pmPwLyZ",
        "outputId": "62a9a597-145a-4836-ae16-44abf12286e6"
      },
      "execution_count": 87,
      "outputs": [
        {
          "output_type": "execute_result",
          "data": {
            "text/plain": [
              "array([[0.07425819, 0.40533294, 0.08620885, 0.00423232],\n",
              "       [0.03282795, 0.05426795, 0.13431325, 0.10390801],\n",
              "       [0.22729387, 0.12395028, 0.28229755, 0.14733877],\n",
              "       [0.06058537, 0.85199572, 0.17936891, 0.2252353 ]])"
            ]
          },
          "metadata": {},
          "execution_count": 87
        }
      ]
    },
    {
      "cell_type": "code",
      "source": [
        "#division\n",
        "array4=np.divide(array1,array2)\n",
        "array4"
      ],
      "metadata": {
        "colab": {
          "base_uri": "https://localhost:8080/"
        },
        "id": "0f2eFDaYxDSS",
        "outputId": "251db146-12de-4dd8-8871-a441d3643772"
      },
      "execution_count": 88,
      "outputs": [
        {
          "output_type": "execute_result",
          "data": {
            "text/plain": [
              "array([[ 7.35881875,  0.6844037 ,  2.38948891, 36.55017421],\n",
              "       [17.07911769, 10.57210041,  0.14057685,  0.22673642],\n",
              "       [ 0.48182593,  0.22831121,  0.51124882,  1.73794103],\n",
              "       [ 0.4040859 ,  1.07656788,  0.66105363,  0.86593063]])"
            ]
          },
          "metadata": {},
          "execution_count": 88
        }
      ]
    },
    {
      "cell_type": "code",
      "source": [
        "#esponentes\n",
        "np.exp(array1)"
      ],
      "metadata": {
        "colab": {
          "base_uri": "https://localhost:8080/"
        },
        "id": "EC1QMaXixwS5",
        "outputId": "9cf40908-d609-4017-c4f5-52917ebf932a"
      },
      "execution_count": 89,
      "outputs": [
        {
          "output_type": "execute_result",
          "data": {
            "text/plain": [
              "array([[2.09431028, 1.69333262, 1.57438833, 1.48187608],\n",
              "       [2.11442024, 2.13282448, 1.14729772, 1.16589822],\n",
              "       [1.39226531, 1.18320135, 1.4621389 , 1.65869267],\n",
              "       [1.16937132, 2.60575352, 1.41106329, 1.5552421 ]])"
            ]
          },
          "metadata": {},
          "execution_count": 89
        }
      ]
    },
    {
      "cell_type": "code",
      "source": [
        "#operadores\n",
        "np.cosh(array1)"
      ],
      "metadata": {
        "colab": {
          "base_uri": "https://localhost:8080/"
        },
        "id": "MIfXDjexyE5Z",
        "outputId": "4126f639-6b86-4662-bf04-75327a4bec29"
      },
      "execution_count": 90,
      "outputs": [
        {
          "output_type": "execute_result",
          "data": {
            "text/plain": [
              "array([[1.28589722, 1.14194202, 1.10477782, 1.07834817],\n",
              "       [1.29368156, 1.30084316, 1.00945553, 1.01180301],\n",
              "       [1.05525961, 1.01418302, 1.07303423, 1.13078855],\n",
              "       [1.01226584, 1.49475984, 1.05987436, 1.09911441]])"
            ]
          },
          "metadata": {},
          "execution_count": 90
        }
      ]
    },
    {
      "cell_type": "code",
      "source": [
        "#longarinmo\n",
        "np.log(array2)\n",
        "array2"
      ],
      "metadata": {
        "colab": {
          "base_uri": "https://localhost:8080/"
        },
        "id": "ZGXlDVx_yZKw",
        "outputId": "26ae1e82-eaa4-4e60-f276-6b55bca3abed"
      },
      "execution_count": 92,
      "outputs": [
        {
          "output_type": "execute_result",
          "data": {
            "text/plain": [
              "array([[0.1004542 , 0.76957291, 0.18994306, 0.01076079],\n",
              "       [0.04384188, 0.07164585, 0.97746794, 0.67696134],\n",
              "       [0.68682925, 0.73681785, 0.74308311, 0.29116623],\n",
              "       [0.38721042, 0.8896066 , 0.52090105, 0.51000763]])"
            ]
          },
          "metadata": {},
          "execution_count": 92
        }
      ]
    },
    {
      "cell_type": "markdown",
      "source": [
        "COMPARACIONES ENTRE MATRICES"
      ],
      "metadata": {
        "id": "BZDlRdfayw7h"
      }
    },
    {
      "cell_type": "code",
      "source": [
        "#==\n",
        "array1==array2"
      ],
      "metadata": {
        "colab": {
          "base_uri": "https://localhost:8080/"
        },
        "id": "cEsrnOJzy2Sx",
        "outputId": "c962df02-5553-459f-bed1-20190539026e"
      },
      "execution_count": 93,
      "outputs": [
        {
          "output_type": "execute_result",
          "data": {
            "text/plain": [
              "array([[False, False, False, False],\n",
              "       [False, False, False, False],\n",
              "       [False, False, False, False],\n",
              "       [False, False, False, False]])"
            ]
          },
          "metadata": {},
          "execution_count": 93
        }
      ]
    },
    {
      "cell_type": "code",
      "source": [
        "#el menor\n",
        "array1"
      ],
      "metadata": {
        "colab": {
          "base_uri": "https://localhost:8080/"
        },
        "id": "khYxnViyzFfQ",
        "outputId": "4d3af6e8-9f01-42e7-f187-7349a3d18222"
      },
      "execution_count": 94,
      "outputs": [
        {
          "output_type": "execute_result",
          "data": {
            "text/plain": [
              "array([[0.73922428, 0.52669855, 0.45386683, 0.39330891],\n",
              "       [0.74878066, 0.75744715, 0.13740936, 0.15349179],\n",
              "       [0.33093214, 0.16822378, 0.37990037, 0.50602974],\n",
              "       [0.15646627, 0.95772189, 0.34434353, 0.44163123]])"
            ]
          },
          "metadata": {},
          "execution_count": 94
        }
      ]
    },
    {
      "cell_type": "code",
      "source": [
        "array1 > 0.5"
      ],
      "metadata": {
        "colab": {
          "base_uri": "https://localhost:8080/"
        },
        "id": "Vgk6UnkZzMzB",
        "outputId": "3b5a8725-74b1-459d-cf1a-1f99b89bc07c"
      },
      "execution_count": 96,
      "outputs": [
        {
          "output_type": "execute_result",
          "data": {
            "text/plain": [
              "array([[ True,  True, False, False],\n",
              "       [ True,  True, False, False],\n",
              "       [False, False, False,  True],\n",
              "       [False,  True, False, False]])"
            ]
          },
          "metadata": {},
          "execution_count": 96
        }
      ]
    },
    {
      "cell_type": "code",
      "source": [
        "#<= o >=\n",
        "array2"
      ],
      "metadata": {
        "colab": {
          "base_uri": "https://localhost:8080/"
        },
        "id": "nunqUwAozZ1Y",
        "outputId": "3e63b1d9-b800-4249-9ef8-468ec56ee34e"
      },
      "execution_count": 97,
      "outputs": [
        {
          "output_type": "execute_result",
          "data": {
            "text/plain": [
              "array([[0.1004542 , 0.76957291, 0.18994306, 0.01076079],\n",
              "       [0.04384188, 0.07164585, 0.97746794, 0.67696134],\n",
              "       [0.68682925, 0.73681785, 0.74308311, 0.29116623],\n",
              "       [0.38721042, 0.8896066 , 0.52090105, 0.51000763]])"
            ]
          },
          "metadata": {},
          "execution_count": 97
        }
      ]
    },
    {
      "cell_type": "code",
      "source": [
        "array2 >= 0.5"
      ],
      "metadata": {
        "colab": {
          "base_uri": "https://localhost:8080/"
        },
        "id": "mQUOeAhXznlX",
        "outputId": "69768f18-ff58-474f-be69-a40a7b39bb48"
      },
      "execution_count": 98,
      "outputs": [
        {
          "output_type": "execute_result",
          "data": {
            "text/plain": [
              "array([[False,  True, False, False],\n",
              "       [False, False,  True,  True],\n",
              "       [ True,  True,  True, False],\n",
              "       [False,  True,  True,  True]])"
            ]
          },
          "metadata": {},
          "execution_count": 98
        }
      ]
    },
    {
      "cell_type": "markdown",
      "source": [
        "ESTADISTICAS Y FUNCIONES"
      ],
      "metadata": {
        "id": "EpEAnCBdz0II"
      }
    },
    {
      "cell_type": "code",
      "source": [
        "array6 = np.random.random((5,5))\n",
        "array6"
      ],
      "metadata": {
        "colab": {
          "base_uri": "https://localhost:8080/"
        },
        "id": "AhuqeAF3z5KI",
        "outputId": "643621b7-15aa-4429-c90c-0674c36fe8e8"
      },
      "execution_count": 99,
      "outputs": [
        {
          "output_type": "execute_result",
          "data": {
            "text/plain": [
              "array([[0.89018316, 0.05277727, 0.18093761, 0.28669465, 0.4354931 ],\n",
              "       [0.56233716, 0.59094395, 0.95785161, 0.1579927 , 0.71970966],\n",
              "       [0.17443662, 0.03578542, 0.62595233, 0.12920135, 0.25715608],\n",
              "       [0.5008651 , 0.33675208, 0.50872247, 0.61747648, 0.28196846],\n",
              "       [0.89663201, 0.96302458, 0.60573907, 0.89486169, 0.31316645]])"
            ]
          },
          "metadata": {},
          "execution_count": 99
        }
      ]
    },
    {
      "cell_type": "code",
      "source": [
        "#suma de elementos\n",
        "sumatotal=array6.sum()\n",
        "print(sumatotal)"
      ],
      "metadata": {
        "colab": {
          "base_uri": "https://localhost:8080/"
        },
        "id": "RiO_kYRp0pvR",
        "outputId": "fa2bd237-f7d2-485f-d17d-0446ca22f2ca"
      },
      "execution_count": 100,
      "outputs": [
        {
          "output_type": "stream",
          "name": "stdout",
          "text": [
            "11.976661074036713\n"
          ]
        }
      ]
    },
    {
      "cell_type": "code",
      "source": [
        "#valor minimo y maximo\n",
        "array6.max()"
      ],
      "metadata": {
        "colab": {
          "base_uri": "https://localhost:8080/"
        },
        "id": "DzyddqBE0-of",
        "outputId": "56b6f1dd-74f3-45d3-f4b7-5459fcfa33f9"
      },
      "execution_count": 102,
      "outputs": [
        {
          "output_type": "execute_result",
          "data": {
            "text/plain": [
              "np.float64(0.963024581166707)"
            ]
          },
          "metadata": {},
          "execution_count": 102
        }
      ]
    },
    {
      "cell_type": "code",
      "source": [
        "#maximo por fila o columna\n",
        "array6.max(axis=1)"
      ],
      "metadata": {
        "colab": {
          "base_uri": "https://localhost:8080/"
        },
        "id": "mdyXMEa21RkH",
        "outputId": "97e6bd4a-b577-46f2-b0c1-bc98d0c1f3db"
      },
      "execution_count": 106,
      "outputs": [
        {
          "output_type": "execute_result",
          "data": {
            "text/plain": [
              "array([0.89018316, 0.95785161, 0.62595233, 0.61747648, 0.96302458])"
            ]
          },
          "metadata": {},
          "execution_count": 106
        }
      ]
    },
    {
      "cell_type": "code",
      "source": [
        "#fila acumulada\n",
        "array6.cumprod(axis=1)"
      ],
      "metadata": {
        "id": "R6JOlq_t1qyf"
      },
      "execution_count": null,
      "outputs": []
    },
    {
      "cell_type": "code",
      "source": [
        "np.mean(array6)"
      ],
      "metadata": {
        "colab": {
          "base_uri": "https://localhost:8080/"
        },
        "id": "03p0Uqhb16-W",
        "outputId": "56472c0f-3023-4ab6-fe71-03e6caa0b907"
      },
      "execution_count": 107,
      "outputs": [
        {
          "output_type": "execute_result",
          "data": {
            "text/plain": [
              "np.float64(0.4790664429614685)"
            ]
          },
          "metadata": {},
          "execution_count": 107
        }
      ]
    },
    {
      "cell_type": "code",
      "source": [
        "np.median(array6)"
      ],
      "metadata": {
        "colab": {
          "base_uri": "https://localhost:8080/"
        },
        "id": "olCTnAx72EYX",
        "outputId": "93743eb8-e3d1-4571-d092-8271e1f2241e"
      },
      "execution_count": 108,
      "outputs": [
        {
          "output_type": "execute_result",
          "data": {
            "text/plain": [
              "np.float64(0.5008651037892339)"
            ]
          },
          "metadata": {},
          "execution_count": 108
        }
      ]
    },
    {
      "cell_type": "code",
      "source": [
        "np.std(array6)"
      ],
      "metadata": {
        "colab": {
          "base_uri": "https://localhost:8080/"
        },
        "id": "quw73obM2Lcn",
        "outputId": "799277a6-d670-45d0-804b-94c78beaf4c6"
      },
      "execution_count": 109,
      "outputs": [
        {
          "output_type": "execute_result",
          "data": {
            "text/plain": [
              "np.float64(0.28812328409275384)"
            ]
          },
          "metadata": {},
          "execution_count": 109
        }
      ]
    }
  ]
}