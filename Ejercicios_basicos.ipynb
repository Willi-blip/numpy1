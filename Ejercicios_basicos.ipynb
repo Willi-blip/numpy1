{
  "nbformat": 4,
  "nbformat_minor": 0,
  "metadata": {
    "colab": {
      "provenance": [],
      "authorship_tag": "ABX9TyPSwsBUpktF2Tq9cPV9YK1p",
      "include_colab_link": true
    },
    "kernelspec": {
      "name": "python3",
      "display_name": "Python 3"
    },
    "language_info": {
      "name": "python"
    }
  },
  "cells": [
    {
      "cell_type": "markdown",
      "metadata": {
        "id": "view-in-github",
        "colab_type": "text"
      },
      "source": [
        "<a href=\"https://colab.research.google.com/github/Willi-blip/numpy1/blob/main/Ejercicios_basicos.ipynb\" target=\"_parent\"><img src=\"https://colab.research.google.com/assets/colab-badge.svg\" alt=\"Open In Colab\"/></a>"
      ]
    },
    {
      "cell_type": "code",
      "execution_count": null,
      "metadata": {
        "id": "l0-KnhzstdC9"
      },
      "outputs": [],
      "source": []
    },
    {
      "cell_type": "markdown",
      "source": [
        "NumPY, Libreria de ciencia de datos"
      ],
      "metadata": {
        "id": "ebHxnWk6uA8c"
      }
    },
    {
      "cell_type": "code",
      "source": [
        "import numpy as np\n",
        "#pip install numpy"
      ],
      "metadata": {
        "id": "Yhvi-MBBujfR"
      },
      "execution_count": 41,
      "outputs": []
    },
    {
      "cell_type": "markdown",
      "source": [
        "ARRAYS DE 1 DIMENSION"
      ],
      "metadata": {
        "id": "2g3OWcp-wrp0"
      }
    },
    {
      "cell_type": "code",
      "source": [
        "array_id=np.array([10,20,30])\n",
        "print(array_id)"
      ],
      "metadata": {
        "colab": {
          "base_uri": "https://localhost:8080/"
        },
        "id": "MWCbAPQhv1XX",
        "outputId": "c4194672-5c80-493e-c5e7-0d6e795bb8fd"
      },
      "execution_count": 5,
      "outputs": [
        {
          "output_type": "stream",
          "name": "stdout",
          "text": [
            "[10 20 30]\n"
          ]
        }
      ]
    },
    {
      "cell_type": "code",
      "source": [
        "array_id"
      ],
      "metadata": {
        "id": "miVqTD6ownNP"
      },
      "execution_count": null,
      "outputs": []
    },
    {
      "cell_type": "markdown",
      "source": [
        "ARRAYS DE 2 DIMENSIONES"
      ],
      "metadata": {
        "id": "cJdVn-cyw_AA"
      }
    },
    {
      "cell_type": "code",
      "source": [
        "array_2d=np.array([(10,20,30),(40,50,50)])\n",
        "array_2d"
      ],
      "metadata": {
        "colab": {
          "base_uri": "https://localhost:8080/"
        },
        "id": "Kae0_N15xChQ",
        "outputId": "74505401-d4f4-4c54-f477-073db575a733"
      },
      "execution_count": 6,
      "outputs": [
        {
          "output_type": "execute_result",
          "data": {
            "text/plain": [
              "array([[10, 20, 30],\n",
              "       [40, 50, 50]])"
            ]
          },
          "metadata": {},
          "execution_count": 6
        }
      ]
    },
    {
      "cell_type": "markdown",
      "source": [
        "ARRATS DE 3 DIMENSIONES"
      ],
      "metadata": {
        "id": "iQ-F-NMqx0vk"
      }
    },
    {
      "cell_type": "code",
      "source": [
        "array_3d=np.array([(10,20,30),(40,50,60),(70,80,90)],dtype=float)\n",
        "array_3d"
      ],
      "metadata": {
        "colab": {
          "base_uri": "https://localhost:8080/"
        },
        "id": "ECflqkKYx49b",
        "outputId": "1fe7d7dc-7b93-47c6-c665-fce6d3477acc"
      },
      "execution_count": 8,
      "outputs": [
        {
          "output_type": "execute_result",
          "data": {
            "text/plain": [
              "array([[10., 20., 30.],\n",
              "       [40., 50., 60.],\n",
              "       [70., 80., 90.]])"
            ]
          },
          "metadata": {},
          "execution_count": 8
        }
      ]
    },
    {
      "cell_type": "markdown",
      "source": [
        "ARRAY CON 0 DE 3 FILAS 4 CULUMNAS"
      ],
      "metadata": {
        "id": "PxRXgIG94RVX"
      }
    },
    {
      "cell_type": "code",
      "source": [
        "np.zeros((3,4))"
      ],
      "metadata": {
        "colab": {
          "base_uri": "https://localhost:8080/"
        },
        "id": "SAZMHOYE4Zam",
        "outputId": "b332f8b8-4532-4a92-d626-56eb47b97191"
      },
      "execution_count": 43,
      "outputs": [
        {
          "output_type": "execute_result",
          "data": {
            "text/plain": [
              "array([[0., 0., 0., 0.],\n",
              "       [0., 0., 0., 0.],\n",
              "       [0., 0., 0., 0.]])"
            ]
          },
          "metadata": {},
          "execution_count": 43
        }
      ]
    },
    {
      "cell_type": "code",
      "source": [
        "print(np.zeros((3,4)))"
      ],
      "metadata": {
        "colab": {
          "base_uri": "https://localhost:8080/"
        },
        "id": "wFbO0_bo4n2u",
        "outputId": "7dc78465-d1f7-46be-a85d-c638a94cb512"
      },
      "execution_count": 44,
      "outputs": [
        {
          "output_type": "stream",
          "name": "stdout",
          "text": [
            "[[0. 0. 0. 0.]\n",
            " [0. 0. 0. 0.]\n",
            " [0. 0. 0. 0.]]\n"
          ]
        }
      ]
    },
    {
      "cell_type": "markdown",
      "source": [
        "ARRAY DE UNOS CON2 DIMENSIONES 4 FILAS 5 COLUMNAS"
      ],
      "metadata": {
        "id": "VUajhkNk42S_"
      }
    },
    {
      "cell_type": "markdown",
      "source": [],
      "metadata": {
        "id": "JJd9KptM5WsY"
      }
    },
    {
      "cell_type": "code",
      "source": [
        "np.ones([2,4,5])"
      ],
      "metadata": {
        "colab": {
          "base_uri": "https://localhost:8080/"
        },
        "id": "prBQSFRA4-RQ",
        "outputId": "ca37acea-0124-4f3a-c18d-fe0a9eff7186"
      },
      "execution_count": 15,
      "outputs": [
        {
          "output_type": "execute_result",
          "data": {
            "text/plain": [
              "array([[[1., 1., 1., 1., 1.],\n",
              "        [1., 1., 1., 1., 1.],\n",
              "        [1., 1., 1., 1., 1.],\n",
              "        [1., 1., 1., 1., 1.]],\n",
              "\n",
              "       [[1., 1., 1., 1., 1.],\n",
              "        [1., 1., 1., 1., 1.],\n",
              "        [1., 1., 1., 1., 1.],\n",
              "        [1., 1., 1., 1., 1.]]])"
            ]
          },
          "metadata": {},
          "execution_count": 15
        }
      ]
    },
    {
      "cell_type": "markdown",
      "source": [
        "ARRAYS INTERVALOS Y SALTOS"
      ],
      "metadata": {
        "id": "BXvldQvk5Z7J"
      }
    },
    {
      "cell_type": "code",
      "source": [
        "np.arange(11,30,2)"
      ],
      "metadata": {
        "colab": {
          "base_uri": "https://localhost:8080/"
        },
        "id": "7xeiQJuz5y0S",
        "outputId": "c31abf73-d87d-41c8-8ab7-01129ae106dd"
      },
      "execution_count": 18,
      "outputs": [
        {
          "output_type": "execute_result",
          "data": {
            "text/plain": [
              "array([11, 13, 15, 17, 19, 21, 23, 25, 27, 29])"
            ]
          },
          "metadata": {},
          "execution_count": 18
        }
      ]
    },
    {
      "cell_type": "markdown",
      "source": [
        "ARRAYS CON INTERVALOS Y DIVISIONES"
      ],
      "metadata": {
        "id": "fnxKHQLV7-r4"
      }
    },
    {
      "cell_type": "code",
      "source": [
        "np.linspace(0,4,7)"
      ],
      "metadata": {
        "colab": {
          "base_uri": "https://localhost:8080/"
        },
        "id": "zmrs4yp-8EdK",
        "outputId": "1f788f2b-38f4-4134-868b-c3d6e0ee8a07"
      },
      "execution_count": 26,
      "outputs": [
        {
          "output_type": "execute_result",
          "data": {
            "text/plain": [
              "array([0.        , 0.66666667, 1.33333333, 2.        , 2.66666667,\n",
              "       3.33333333, 4.        ])"
            ]
          },
          "metadata": {},
          "execution_count": 26
        }
      ]
    },
    {
      "cell_type": "markdown",
      "source": [
        "ARRAY CON VALORES DADOS"
      ],
      "metadata": {
        "id": "uqQ1s-pH8j2B"
      }
    },
    {
      "cell_type": "code",
      "source": [
        "np.full([3,3],7)"
      ],
      "metadata": {
        "colab": {
          "base_uri": "https://localhost:8080/"
        },
        "id": "et_INOlZ8pki",
        "outputId": "7e009638-233d-49ef-a303-a6e206ce34e7"
      },
      "execution_count": 27,
      "outputs": [
        {
          "output_type": "execute_result",
          "data": {
            "text/plain": [
              "array([[7, 7, 7],\n",
              "       [7, 7, 7],\n",
              "       [7, 7, 7]])"
            ]
          },
          "metadata": {},
          "execution_count": 27
        }
      ]
    },
    {
      "cell_type": "markdown",
      "source": [
        "ARRAY MATRIZ IDENTIDAD, DIAGONAL, DE UNOS"
      ],
      "metadata": {
        "id": "GKPvKUhv87Tr"
      }
    },
    {
      "cell_type": "code",
      "source": [
        "np.eye(3)"
      ],
      "metadata": {
        "colab": {
          "base_uri": "https://localhost:8080/"
        },
        "id": "zeg07ybf9Tlz",
        "outputId": "4b9f4a49-a48e-4988-f106-4844936dc7e4"
      },
      "execution_count": 31,
      "outputs": [
        {
          "output_type": "execute_result",
          "data": {
            "text/plain": [
              "array([[1., 0., 0.],\n",
              "       [0., 1., 0.],\n",
              "       [0., 0., 1.]])"
            ]
          },
          "metadata": {},
          "execution_count": 31
        }
      ]
    },
    {
      "cell_type": "markdown",
      "source": [
        "ARRAY VALORES ALEATORIOS"
      ],
      "metadata": {
        "id": "GG6ProXJ-fou"
      }
    },
    {
      "cell_type": "code",
      "source": [
        "np.random.random((4,4))"
      ],
      "metadata": {
        "colab": {
          "base_uri": "https://localhost:8080/"
        },
        "id": "7EZK482H-j9O",
        "outputId": "9601ee9a-a776-4cbe-b25f-9df70345c3a6"
      },
      "execution_count": 35,
      "outputs": [
        {
          "output_type": "execute_result",
          "data": {
            "text/plain": [
              "array([[0.22097647, 0.48595463, 0.40543539, 0.98178174],\n",
              "       [0.82150092, 0.12912591, 0.20897037, 0.35526123],\n",
              "       [0.49613813, 0.18105079, 0.60405846, 0.30800038],\n",
              "       [0.42811414, 0.18479222, 0.55975856, 0.47935327]])"
            ]
          },
          "metadata": {},
          "execution_count": 35
        }
      ]
    },
    {
      "cell_type": "markdown",
      "source": [
        "ARRAY NUMEROS VACIOS 4*3"
      ],
      "metadata": {
        "id": "genxNk1N_EtH"
      }
    },
    {
      "cell_type": "code",
      "source": [
        "np.empty((4,3))"
      ],
      "metadata": {
        "colab": {
          "base_uri": "https://localhost:8080/"
        },
        "id": "DX_rE4X8_KT3",
        "outputId": "8169cdcf-a540-476c-e3dc-0e4a03e7cd3a"
      },
      "execution_count": 45,
      "outputs": [
        {
          "output_type": "execute_result",
          "data": {
            "text/plain": [
              "array([[0., 0., 0.],\n",
              "       [0., 0., 0.],\n",
              "       [0., 0., 0.],\n",
              "       [0., 0., 0.]])"
            ]
          },
          "metadata": {},
          "execution_count": 45
        }
      ]
    },
    {
      "cell_type": "markdown",
      "source": [
        "GRABAR Y CARGAR"
      ],
      "metadata": {
        "id": "9wX0n9v-BePX"
      }
    },
    {
      "cell_type": "code",
      "source": [
        "#grabar\n",
        "np.save('mi_array_3d',array_3d)"
      ],
      "metadata": {
        "id": "6Q9O5CKxBheE"
      },
      "execution_count": 50,
      "outputs": []
    },
    {
      "cell_type": "code",
      "source": [
        "#cargar\n",
        "mi_array=np.load('mi_array_3d.npy')\n",
        "mi_array"
      ],
      "metadata": {
        "colab": {
          "base_uri": "https://localhost:8080/"
        },
        "id": "dLVFZcU4CtO-",
        "outputId": "9b05134a-857f-4d1e-9241-987b7ef98be9"
      },
      "execution_count": 54,
      "outputs": [
        {
          "output_type": "execute_result",
          "data": {
            "text/plain": [
              "array([[10., 20., 30.],\n",
              "       [40., 50., 60.],\n",
              "       [70., 80., 90.]])"
            ]
          },
          "metadata": {},
          "execution_count": 54
        }
      ]
    },
    {
      "cell_type": "code",
      "source": [
        "np.save('mi_array_2d',array_2d)"
      ],
      "metadata": {
        "id": "ULr874E_EL8p"
      },
      "execution_count": 55,
      "outputs": []
    },
    {
      "cell_type": "code",
      "source": [
        "mi_array=np.load('mi_array_2d.npy')\n",
        "mi_array"
      ],
      "metadata": {
        "colab": {
          "base_uri": "https://localhost:8080/"
        },
        "id": "2p1iG83wEllJ",
        "outputId": "b6ab4920-2ddb-4c5e-c647-35869bc28690"
      },
      "execution_count": 56,
      "outputs": [
        {
          "output_type": "execute_result",
          "data": {
            "text/plain": [
              "array([[10, 20, 30],\n",
              "       [40, 50, 50]])"
            ]
          },
          "metadata": {},
          "execution_count": 56
        }
      ]
    },
    {
      "cell_type": "markdown",
      "source": [
        "GRABAR Y CARGAR FICHEROS DE TEXTOS"
      ],
      "metadata": {
        "id": "pnFRLXIQE4aS"
      }
    },
    {
      "cell_type": "code",
      "source": [
        "#grabar el fichero de texto\n",
        "np.savetxt('mi_array.txt',array_2d,delimiter=' ')"
      ],
      "metadata": {
        "id": "ABidjOwcE-ah"
      },
      "execution_count": 57,
      "outputs": []
    },
    {
      "cell_type": "code",
      "source": [
        "#cargar el fichero de texto\n",
        "np.loadtxt('mi_array.txt')"
      ],
      "metadata": {
        "colab": {
          "base_uri": "https://localhost:8080/"
        },
        "id": "zcGYdo-zGJ6q",
        "outputId": "0deb68c7-0b6d-4270-e992-72856ca1f836"
      },
      "execution_count": 58,
      "outputs": [
        {
          "output_type": "execute_result",
          "data": {
            "text/plain": [
              "array([[10., 20., 30.],\n",
              "       [40., 50., 50.]])"
            ]
          },
          "metadata": {},
          "execution_count": 58
        }
      ]
    },
    {
      "cell_type": "markdown",
      "source": [
        "EJECICIOS"
      ],
      "metadata": {
        "id": "_GAet8vORmL-"
      }
    },
    {
      "cell_type": "code",
      "source": [
        "asignaturas = [\"Matemáticas\", \"Física\", \"Química\", \"Historia\", \"Lengua\"]\n",
        "asignaturas"
      ],
      "metadata": {
        "colab": {
          "base_uri": "https://localhost:8080/"
        },
        "id": "GsUsVtkeRpuG",
        "outputId": "18f39bfb-68f8-40a8-f05a-6bd2cd05bff0"
      },
      "execution_count": 59,
      "outputs": [
        {
          "output_type": "execute_result",
          "data": {
            "text/plain": [
              "['Matemáticas', 'Física', 'Química', 'Historia', 'Lengua']"
            ]
          },
          "metadata": {},
          "execution_count": 59
        }
      ]
    },
    {
      "cell_type": "code",
      "source": [
        "for asignatura in asignaturas:\n",
        "    print(\"Yo estudio \" + asignatura)"
      ],
      "metadata": {
        "colab": {
          "base_uri": "https://localhost:8080/"
        },
        "id": "DqpeGMj-SXEO",
        "outputId": "bdbf611f-3fd1-48be-8a48-70a5916b57cf"
      },
      "execution_count": 60,
      "outputs": [
        {
          "output_type": "stream",
          "name": "stdout",
          "text": [
            "Yo estudio Matemáticas\n",
            "Yo estudio Física\n",
            "Yo estudio Química\n",
            "Yo estudio Historia\n",
            "Yo estudio Lengua\n"
          ]
        }
      ]
    },
    {
      "cell_type": "code",
      "source": [
        "notas = []\n",
        "for asignatura in asignaturas:\n",
        "  nota = input(\"¿Qué nota has sacado en {}? \".format(asignatura))\n",
        "  notas.append(nota)\n",
        "\n",
        "for i in range(len(asignaturas)):\n",
        "  print(\"En {} has sacado: {}\".format(asignaturas[i], notas[i]))"
      ],
      "metadata": {
        "colab": {
          "base_uri": "https://localhost:8080/"
        },
        "id": "hiqm_BWrSywn",
        "outputId": "ac27c5ab-877c-4e3b-89be-f18bc56d72ea"
      },
      "execution_count": 62,
      "outputs": [
        {
          "output_type": "stream",
          "name": "stdout",
          "text": [
            "¿Qué nota has sacado en Matemáticas? 15\n",
            "¿Qué nota has sacado en Física? 15\n",
            "¿Qué nota has sacado en Química? 14\n",
            "¿Qué nota has sacado en Historia? 13\n",
            "¿Qué nota has sacado en Lengua? 16\n",
            "En Matemáticas has sacado: 15\n",
            "En Física has sacado: 15\n",
            "En Química has sacado: 14\n",
            "En Historia has sacado: 13\n",
            "En Lengua has sacado: 16\n"
          ]
        }
      ]
    },
    {
      "cell_type": "code",
      "source": [
        "numeros_ganadores = []\n",
        "while len(numeros_ganadores) < 6:\n",
        "  try:\n",
        "    numero = int(input(f\"Introduce el número {len(numeros_ganadores) + 1} de la lotería: \"))\n",
        "    if 1 <= numero <= 50 and numero not in numeros_ganadores:\n",
        "      numeros_ganadores.append(numero)\n",
        "    elif numero in numeros_ganadores:\n",
        "      print(\"Ese número ya ha sido introducido. Introduce uno diferente.\")\n",
        "    else:\n",
        "      print(\"El número debe estar entre 1 y 50.\")\n",
        "  except ValueError:\n",
        "    print(\"Entrada no válida. Por favor, introduce un número entero.\")\n",
        "\n",
        "numeros_ganadores.sort()\n",
        "print(\"Los números ganadores de la lotería primitiva son:\")\n",
        "numeros_ganadores\n"
      ],
      "metadata": {
        "colab": {
          "base_uri": "https://localhost:8080/"
        },
        "id": "NetpwkZHUP1I",
        "outputId": "8288316c-e498-40b7-f46e-5dd63c39fed2"
      },
      "execution_count": 63,
      "outputs": [
        {
          "output_type": "stream",
          "name": "stdout",
          "text": [
            "Introduce el número 1 de la lotería: 1\n",
            "Introduce el número 2 de la lotería: 5\n",
            "Introduce el número 3 de la lotería: 49\n",
            "Introduce el número 4 de la lotería: 7\n",
            "Introduce el número 5 de la lotería: 23\n",
            "Introduce el número 6 de la lotería: 24\n",
            "Los números ganadores de la lotería primitiva son:\n"
          ]
        },
        {
          "output_type": "execute_result",
          "data": {
            "text/plain": [
              "[1, 5, 7, 23, 24, 49]"
            ]
          },
          "metadata": {},
          "execution_count": 63
        }
      ]
    },
    {
      "cell_type": "code",
      "source": [
        "numeros = list(range(1, 11))\n",
        "numeros.reverse()\n",
        "print(\",\".join(map(str, numeros)))"
      ],
      "metadata": {
        "colab": {
          "base_uri": "https://localhost:8080/"
        },
        "id": "8aPUfSglV7KZ",
        "outputId": "eec93dce-2fea-41a7-e3f3-2c0d5ef278db"
      },
      "execution_count": 69,
      "outputs": [
        {
          "output_type": "stream",
          "name": "stdout",
          "text": [
            "1,2,3,4,5,6,7,8,9,10\n"
          ]
        }
      ]
    },
    {
      "cell_type": "code",
      "source": [
        "asignaturas = [\"Matemáticas\", \"Física\", \"Química\", \"Historia\", \"Lengua\"]\n",
        "notas = []\n",
        "for asignatura in asignaturas:\n",
        "    while True:\n",
        "        try:\n",
        "            nota = float(input(f\"¿Qué nota has sacado en {asignatura}? \"))\n",
        "            if 0 <= nota <= 20:\n",
        "                notas.append(nota)\n",
        "                break\n",
        "            else:\n",
        "                print(\"Por favor, introduce una nota entre 0 y 10.\")\n",
        "        except ValueError:\n",
        "            print(\"Entrada no válida. Por favor, introduce un número para la nota.\")\n",
        "\n",
        "asignaturas_a_repetir = []\n",
        "for i in range(len(asignaturas)):\n",
        "    if notas[i] < 10:\n",
        "        asignaturas_a_repetir.append(asignaturas[i])\n",
        "\n",
        "if asignaturas_a_repetir:\n",
        "    print(\"\\nAsignaturas que tienes que repetir:\")\n",
        "    for asignatura in asignaturas_a_repetir:\n",
        "        print(asignatura)\n",
        "else:\n",
        "    print(\"\\n¡Enhorabuena! Has aprobado todas las asignaturas.\")"
      ],
      "metadata": {
        "colab": {
          "base_uri": "https://localhost:8080/"
        },
        "id": "u8I_jmYmXV8K",
        "outputId": "e313314c-ebbe-4e74-c449-5b02bc336510"
      },
      "execution_count": 71,
      "outputs": [
        {
          "output_type": "stream",
          "name": "stdout",
          "text": [
            "¿Qué nota has sacado en Matemáticas? 9\n",
            "¿Qué nota has sacado en Física? 15\n",
            "¿Qué nota has sacado en Química? 15\n",
            "¿Qué nota has sacado en Historia? 20\n",
            "¿Qué nota has sacado en Lengua? 8\n",
            "\n",
            "Asignaturas que tienes que repetir:\n",
            "Matemáticas\n",
            "Lengua\n"
          ]
        }
      ]
    },
    {
      "cell_type": "code",
      "source": [
        "alfabeto = list('abcdefghijklmnopqrstuvwxyz')\n",
        "alfabeto_filtrado = [letra for indice, letra in enumerate(alfabeto) if (indice + 1) % 3 != 0]\n",
        "alfabeto_filtrado"
      ],
      "metadata": {
        "colab": {
          "base_uri": "https://localhost:8080/"
        },
        "id": "_uRp3-WpZWKk",
        "outputId": "92bd19fb-1513-4c5e-db77-8441527edaa3"
      },
      "execution_count": 76,
      "outputs": [
        {
          "output_type": "execute_result",
          "data": {
            "text/plain": [
              "['a',\n",
              " 'b',\n",
              " 'd',\n",
              " 'e',\n",
              " 'g',\n",
              " 'h',\n",
              " 'j',\n",
              " 'k',\n",
              " 'm',\n",
              " 'n',\n",
              " 'p',\n",
              " 'q',\n",
              " 's',\n",
              " 't',\n",
              " 'v',\n",
              " 'w',\n",
              " 'y',\n",
              " 'z']"
            ]
          },
          "metadata": {},
          "execution_count": 76
        }
      ]
    },
    {
      "cell_type": "code",
      "source": [
        "palabra = input(\"Introduce una palabra: \")\n",
        "palabra = palabra.lower().replace(\" \", \"\")\n",
        "if palabra == palabra[::-1]:\n",
        "  print(\"Es un palíndromo.\")\n",
        "else:\n",
        "  print(\"No es un palíndromo.\")"
      ],
      "metadata": {
        "colab": {
          "base_uri": "https://localhost:8080/"
        },
        "id": "OEQnXbjyaWTs",
        "outputId": "0cfdd659-c6e3-4685-b7dc-78366d102e72"
      },
      "execution_count": 79,
      "outputs": [
        {
          "output_type": "stream",
          "name": "stdout",
          "text": [
            "Introduce una palabra: we\n",
            "No es un palíndromo.\n"
          ]
        }
      ]
    },
    {
      "cell_type": "code",
      "source": [
        "palabra = input(\"Introduce una palabra: \").lower()\n",
        "vocales = {'a': 0, 'e': 0, 'i': 0, 'o': 0, 'u': 0}\n",
        "for letra in palabra:\n",
        "  if letra in vocales:\n",
        "    vocales[letra] += 1\n",
        "for vocal, count in vocales.items():\n",
        "  print(f\"La vocal '{vocal}' aparece {count} veces.\")"
      ],
      "metadata": {
        "colab": {
          "base_uri": "https://localhost:8080/"
        },
        "id": "TrMZduMzbQPU",
        "outputId": "4aba0901-13e3-422c-ab69-6f5c8984166b"
      },
      "execution_count": 80,
      "outputs": [
        {
          "output_type": "stream",
          "name": "stdout",
          "text": [
            "Introduce una palabra: palabra\n",
            "La vocal 'a' aparece 3 veces.\n",
            "La vocal 'e' aparece 0 veces.\n",
            "La vocal 'i' aparece 0 veces.\n",
            "La vocal 'o' aparece 0 veces.\n",
            "La vocal 'u' aparece 0 veces.\n"
          ]
        }
      ]
    }
  ]
}